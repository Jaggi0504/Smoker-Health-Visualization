{
 "cells": [
  {
   "cell_type": "code",
   "execution_count": 2,
   "id": "accea7df",
   "metadata": {},
   "outputs": [],
   "source": [
    "import pandas as pd\n",
    "import numpy as np\n",
    "import matplotlib.pyplot as plt\n",
    "import seaborn as sns\n",
    "import warnings\n",
    "warnings.filterwarnings(\"ignore\")\n",
    "%matplotlib inline"
   ]
  },
  {
   "cell_type": "code",
   "execution_count": 3,
   "id": "b66746ec",
   "metadata": {},
   "outputs": [],
   "source": [
    "df=pd.read_csv('./smoking_health_data_final.csv')"
   ]
  },
  {
   "cell_type": "code",
   "execution_count": 7,
   "id": "c8d112fd",
   "metadata": {},
   "outputs": [
    {
     "data": {
      "text/html": [
       "<div>\n",
       "<style scoped>\n",
       "    .dataframe tbody tr th:only-of-type {\n",
       "        vertical-align: middle;\n",
       "    }\n",
       "\n",
       "    .dataframe tbody tr th {\n",
       "        vertical-align: top;\n",
       "    }\n",
       "\n",
       "    .dataframe thead th {\n",
       "        text-align: right;\n",
       "    }\n",
       "</style>\n",
       "<table border=\"1\" class=\"dataframe\">\n",
       "  <thead>\n",
       "    <tr style=\"text-align: right;\">\n",
       "      <th></th>\n",
       "      <th>age</th>\n",
       "      <th>sex</th>\n",
       "      <th>current_smoker</th>\n",
       "      <th>heart_rate</th>\n",
       "      <th>blood_pressure</th>\n",
       "      <th>cigs_per_day</th>\n",
       "      <th>chol</th>\n",
       "    </tr>\n",
       "  </thead>\n",
       "  <tbody>\n",
       "    <tr>\n",
       "      <th>622</th>\n",
       "      <td>41</td>\n",
       "      <td>female</td>\n",
       "      <td>no</td>\n",
       "      <td>80</td>\n",
       "      <td>108/73</td>\n",
       "      <td>0.0</td>\n",
       "      <td>177.0</td>\n",
       "    </tr>\n",
       "    <tr>\n",
       "      <th>840</th>\n",
       "      <td>53</td>\n",
       "      <td>female</td>\n",
       "      <td>no</td>\n",
       "      <td>65</td>\n",
       "      <td>173/89</td>\n",
       "      <td>0.0</td>\n",
       "      <td>263.0</td>\n",
       "    </tr>\n",
       "    <tr>\n",
       "      <th>1519</th>\n",
       "      <td>43</td>\n",
       "      <td>male</td>\n",
       "      <td>no</td>\n",
       "      <td>92</td>\n",
       "      <td>141/82.5</td>\n",
       "      <td>0.0</td>\n",
       "      <td>367.0</td>\n",
       "    </tr>\n",
       "    <tr>\n",
       "      <th>3309</th>\n",
       "      <td>44</td>\n",
       "      <td>female</td>\n",
       "      <td>yes</td>\n",
       "      <td>72</td>\n",
       "      <td>132.5/82.5</td>\n",
       "      <td>20.0</td>\n",
       "      <td>205.0</td>\n",
       "    </tr>\n",
       "    <tr>\n",
       "      <th>546</th>\n",
       "      <td>43</td>\n",
       "      <td>male</td>\n",
       "      <td>no</td>\n",
       "      <td>86</td>\n",
       "      <td>152/96.5</td>\n",
       "      <td>0.0</td>\n",
       "      <td>126.0</td>\n",
       "    </tr>\n",
       "  </tbody>\n",
       "</table>\n",
       "</div>"
      ],
      "text/plain": [
       "      age     sex current_smoker  heart_rate blood_pressure  cigs_per_day  \\\n",
       "622    41  female             no          80         108/73           0.0   \n",
       "840    53  female             no          65         173/89           0.0   \n",
       "1519   43    male             no          92       141/82.5           0.0   \n",
       "3309   44  female            yes          72     132.5/82.5          20.0   \n",
       "546    43    male             no          86       152/96.5           0.0   \n",
       "\n",
       "       chol  \n",
       "622   177.0  \n",
       "840   263.0  \n",
       "1519  367.0  \n",
       "3309  205.0  \n",
       "546   126.0  "
      ]
     },
     "execution_count": 7,
     "metadata": {},
     "output_type": "execute_result"
    }
   ],
   "source": [
    "df.sample(5)"
   ]
  },
  {
   "cell_type": "code",
   "execution_count": 5,
   "id": "fab1f40d",
   "metadata": {},
   "outputs": [
    {
     "data": {
      "text/plain": [
       "(3900, 7)"
      ]
     },
     "execution_count": 5,
     "metadata": {},
     "output_type": "execute_result"
    }
   ],
   "source": [
    "df.shape"
   ]
  },
  {
   "cell_type": "code",
   "execution_count": 8,
   "id": "63d0911b",
   "metadata": {},
   "outputs": [
    {
     "name": "stdout",
     "output_type": "stream",
     "text": [
      "<class 'pandas.core.frame.DataFrame'>\n",
      "RangeIndex: 3900 entries, 0 to 3899\n",
      "Data columns (total 7 columns):\n",
      " #   Column          Non-Null Count  Dtype  \n",
      "---  ------          --------------  -----  \n",
      " 0   age             3900 non-null   int64  \n",
      " 1   sex             3900 non-null   object \n",
      " 2   current_smoker  3900 non-null   object \n",
      " 3   heart_rate      3900 non-null   int64  \n",
      " 4   blood_pressure  3900 non-null   object \n",
      " 5   cigs_per_day    3886 non-null   float64\n",
      " 6   chol            3893 non-null   float64\n",
      "dtypes: float64(2), int64(2), object(3)\n",
      "memory usage: 213.4+ KB\n"
     ]
    }
   ],
   "source": [
    "df.info()"
   ]
  },
  {
   "cell_type": "code",
   "execution_count": 9,
   "id": "ecbe8ea1",
   "metadata": {},
   "outputs": [
    {
     "data": {
      "text/html": [
       "<div>\n",
       "<style scoped>\n",
       "    .dataframe tbody tr th:only-of-type {\n",
       "        vertical-align: middle;\n",
       "    }\n",
       "\n",
       "    .dataframe tbody tr th {\n",
       "        vertical-align: top;\n",
       "    }\n",
       "\n",
       "    .dataframe thead th {\n",
       "        text-align: right;\n",
       "    }\n",
       "</style>\n",
       "<table border=\"1\" class=\"dataframe\">\n",
       "  <thead>\n",
       "    <tr style=\"text-align: right;\">\n",
       "      <th></th>\n",
       "      <th>age</th>\n",
       "      <th>heart_rate</th>\n",
       "      <th>cigs_per_day</th>\n",
       "      <th>chol</th>\n",
       "    </tr>\n",
       "  </thead>\n",
       "  <tbody>\n",
       "    <tr>\n",
       "      <th>count</th>\n",
       "      <td>3900.000000</td>\n",
       "      <td>3900.000000</td>\n",
       "      <td>3886.000000</td>\n",
       "      <td>3893.000000</td>\n",
       "    </tr>\n",
       "    <tr>\n",
       "      <th>mean</th>\n",
       "      <td>49.537949</td>\n",
       "      <td>75.688974</td>\n",
       "      <td>9.168554</td>\n",
       "      <td>236.595941</td>\n",
       "    </tr>\n",
       "    <tr>\n",
       "      <th>std</th>\n",
       "      <td>8.559275</td>\n",
       "      <td>12.015376</td>\n",
       "      <td>12.037999</td>\n",
       "      <td>44.375365</td>\n",
       "    </tr>\n",
       "    <tr>\n",
       "      <th>min</th>\n",
       "      <td>32.000000</td>\n",
       "      <td>44.000000</td>\n",
       "      <td>0.000000</td>\n",
       "      <td>113.000000</td>\n",
       "    </tr>\n",
       "    <tr>\n",
       "      <th>25%</th>\n",
       "      <td>42.000000</td>\n",
       "      <td>68.000000</td>\n",
       "      <td>0.000000</td>\n",
       "      <td>206.000000</td>\n",
       "    </tr>\n",
       "    <tr>\n",
       "      <th>50%</th>\n",
       "      <td>49.000000</td>\n",
       "      <td>75.000000</td>\n",
       "      <td>0.000000</td>\n",
       "      <td>234.000000</td>\n",
       "    </tr>\n",
       "    <tr>\n",
       "      <th>75%</th>\n",
       "      <td>56.000000</td>\n",
       "      <td>82.000000</td>\n",
       "      <td>20.000000</td>\n",
       "      <td>263.000000</td>\n",
       "    </tr>\n",
       "    <tr>\n",
       "      <th>max</th>\n",
       "      <td>70.000000</td>\n",
       "      <td>143.000000</td>\n",
       "      <td>70.000000</td>\n",
       "      <td>696.000000</td>\n",
       "    </tr>\n",
       "  </tbody>\n",
       "</table>\n",
       "</div>"
      ],
      "text/plain": [
       "               age   heart_rate  cigs_per_day         chol\n",
       "count  3900.000000  3900.000000   3886.000000  3893.000000\n",
       "mean     49.537949    75.688974      9.168554   236.595941\n",
       "std       8.559275    12.015376     12.037999    44.375365\n",
       "min      32.000000    44.000000      0.000000   113.000000\n",
       "25%      42.000000    68.000000      0.000000   206.000000\n",
       "50%      49.000000    75.000000      0.000000   234.000000\n",
       "75%      56.000000    82.000000     20.000000   263.000000\n",
       "max      70.000000   143.000000     70.000000   696.000000"
      ]
     },
     "execution_count": 9,
     "metadata": {},
     "output_type": "execute_result"
    }
   ],
   "source": [
    "df.describe()"
   ]
  },
  {
   "cell_type": "code",
   "execution_count": 10,
   "id": "a9459c60",
   "metadata": {},
   "outputs": [
    {
     "data": {
      "text/plain": [
       "age                0\n",
       "sex                0\n",
       "current_smoker     0\n",
       "heart_rate         0\n",
       "blood_pressure     0\n",
       "cigs_per_day      14\n",
       "chol               7\n",
       "dtype: int64"
      ]
     },
     "execution_count": 10,
     "metadata": {},
     "output_type": "execute_result"
    }
   ],
   "source": [
    "df.isna().sum()"
   ]
  },
  {
   "cell_type": "markdown",
   "id": "a463b9b3",
   "metadata": {},
   "source": [
    "### Data Preprocessing steps"
   ]
  },
  {
   "cell_type": "markdown",
   "id": "0ca1da39",
   "metadata": {},
   "source": [
    "### Dropping all the missing values"
   ]
  },
  {
   "cell_type": "code",
   "execution_count": 12,
   "id": "8208b1a7",
   "metadata": {},
   "outputs": [],
   "source": [
    "df.dropna(inplace=True)"
   ]
  },
  {
   "cell_type": "code",
   "execution_count": 14,
   "id": "f686e15c",
   "metadata": {},
   "outputs": [
    {
     "data": {
      "text/plain": [
       "age               0\n",
       "sex               0\n",
       "current_smoker    0\n",
       "heart_rate        0\n",
       "blood_pressure    0\n",
       "cigs_per_day      0\n",
       "chol              0\n",
       "dtype: int64"
      ]
     },
     "execution_count": 14,
     "metadata": {},
     "output_type": "execute_result"
    }
   ],
   "source": [
    "df.isna().sum()"
   ]
  },
  {
   "cell_type": "markdown",
   "id": "0c6973c2",
   "metadata": {},
   "source": [
    "### Replacing male with 1 and female with 0"
   ]
  },
  {
   "cell_type": "code",
   "execution_count": 16,
   "id": "e89da96d",
   "metadata": {},
   "outputs": [],
   "source": [
    "df['sex']=df['sex'].replace({'male': 1, 'female': 0})"
   ]
  },
  {
   "cell_type": "markdown",
   "id": "cc219726",
   "metadata": {},
   "source": [
    "### Replacing no with 0 and yes with 1 in current smoker attribute"
   ]
  },
  {
   "cell_type": "code",
   "execution_count": 23,
   "id": "11a6c40e",
   "metadata": {},
   "outputs": [],
   "source": [
    "df['current_smoker']=df['current_smoker'].replace({'no': 0, 'yes': 1})"
   ]
  },
  {
   "cell_type": "markdown",
   "id": "7fbe6611",
   "metadata": {},
   "source": [
    "### Changing data type from float to int"
   ]
  },
  {
   "cell_type": "code",
   "execution_count": 28,
   "id": "d6ae5acf",
   "metadata": {},
   "outputs": [],
   "source": [
    "df['cigs_per_day']=df['cigs_per_day'].astype('int64')"
   ]
  },
  {
   "cell_type": "markdown",
   "id": "4f84a4ce",
   "metadata": {},
   "source": [
    "### Making age groups for better visualization\n",
    "1. Group 1: (32-45)\n",
    "2. Group 2: (46-60)\n",
    "3. Group 3: (61-70)"
   ]
  },
  {
   "cell_type": "code",
   "execution_count": 41,
   "id": "d0e54141",
   "metadata": {},
   "outputs": [],
   "source": [
    "df['age_group']=df['age'].apply(lambda x:\"group 1\"if(x>31 and x<46)else(\"group 2\" if (x>45 and x<61)else\"group 3\"))"
   ]
  },
  {
   "cell_type": "code",
   "execution_count": 42,
   "id": "0703c43b",
   "metadata": {},
   "outputs": [
    {
     "data": {
      "text/html": [
       "<div>\n",
       "<style scoped>\n",
       "    .dataframe tbody tr th:only-of-type {\n",
       "        vertical-align: middle;\n",
       "    }\n",
       "\n",
       "    .dataframe tbody tr th {\n",
       "        vertical-align: top;\n",
       "    }\n",
       "\n",
       "    .dataframe thead th {\n",
       "        text-align: right;\n",
       "    }\n",
       "</style>\n",
       "<table border=\"1\" class=\"dataframe\">\n",
       "  <thead>\n",
       "    <tr style=\"text-align: right;\">\n",
       "      <th></th>\n",
       "      <th>age</th>\n",
       "      <th>sex</th>\n",
       "      <th>current_smoker</th>\n",
       "      <th>heart_rate</th>\n",
       "      <th>blood_pressure</th>\n",
       "      <th>cigs_per_day</th>\n",
       "      <th>chol</th>\n",
       "      <th>age_group</th>\n",
       "    </tr>\n",
       "  </thead>\n",
       "  <tbody>\n",
       "    <tr>\n",
       "      <th>14</th>\n",
       "      <td>48</td>\n",
       "      <td>1</td>\n",
       "      <td>0</td>\n",
       "      <td>75</td>\n",
       "      <td>131/52</td>\n",
       "      <td>0</td>\n",
       "      <td>175.0</td>\n",
       "      <td>group 2</td>\n",
       "    </tr>\n",
       "    <tr>\n",
       "      <th>15</th>\n",
       "      <td>58</td>\n",
       "      <td>0</td>\n",
       "      <td>0</td>\n",
       "      <td>75</td>\n",
       "      <td>126/52</td>\n",
       "      <td>0</td>\n",
       "      <td>240.0</td>\n",
       "      <td>group 2</td>\n",
       "    </tr>\n",
       "    <tr>\n",
       "      <th>16</th>\n",
       "      <td>46</td>\n",
       "      <td>0</td>\n",
       "      <td>0</td>\n",
       "      <td>80</td>\n",
       "      <td>102/56</td>\n",
       "      <td>0</td>\n",
       "      <td>199.0</td>\n",
       "      <td>group 2</td>\n",
       "    </tr>\n",
       "    <tr>\n",
       "      <th>17</th>\n",
       "      <td>45</td>\n",
       "      <td>0</td>\n",
       "      <td>0</td>\n",
       "      <td>75</td>\n",
       "      <td>106/58</td>\n",
       "      <td>0</td>\n",
       "      <td>235.0</td>\n",
       "      <td>group 1</td>\n",
       "    </tr>\n",
       "    <tr>\n",
       "      <th>18</th>\n",
       "      <td>37</td>\n",
       "      <td>0</td>\n",
       "      <td>0</td>\n",
       "      <td>81</td>\n",
       "      <td>112/60</td>\n",
       "      <td>0</td>\n",
       "      <td>300.0</td>\n",
       "      <td>group 1</td>\n",
       "    </tr>\n",
       "  </tbody>\n",
       "</table>\n",
       "</div>"
      ],
      "text/plain": [
       "    age  sex  current_smoker  heart_rate blood_pressure  cigs_per_day   chol  \\\n",
       "14   48    1               0          75         131/52             0  175.0   \n",
       "15   58    0               0          75         126/52             0  240.0   \n",
       "16   46    0               0          80         102/56             0  199.0   \n",
       "17   45    0               0          75         106/58             0  235.0   \n",
       "18   37    0               0          81         112/60             0  300.0   \n",
       "\n",
       "   age_group  \n",
       "14   group 2  \n",
       "15   group 2  \n",
       "16   group 2  \n",
       "17   group 1  \n",
       "18   group 1  "
      ]
     },
     "execution_count": 42,
     "metadata": {},
     "output_type": "execute_result"
    }
   ],
   "source": [
    "df.head()"
   ]
  },
  {
   "cell_type": "code",
   "execution_count": 43,
   "id": "4e01f319",
   "metadata": {},
   "outputs": [],
   "source": [
    "df.drop(columns=['age'], inplace=True)"
   ]
  },
  {
   "cell_type": "code",
   "execution_count": 48,
   "id": "4ae866ba",
   "metadata": {},
   "outputs": [
    {
     "data": {
      "text/html": [
       "<div>\n",
       "<style scoped>\n",
       "    .dataframe tbody tr th:only-of-type {\n",
       "        vertical-align: middle;\n",
       "    }\n",
       "\n",
       "    .dataframe tbody tr th {\n",
       "        vertical-align: top;\n",
       "    }\n",
       "\n",
       "    .dataframe thead th {\n",
       "        text-align: right;\n",
       "    }\n",
       "</style>\n",
       "<table border=\"1\" class=\"dataframe\">\n",
       "  <thead>\n",
       "    <tr style=\"text-align: right;\">\n",
       "      <th></th>\n",
       "      <th>sex</th>\n",
       "      <th>current_smoker</th>\n",
       "      <th>heart_rate</th>\n",
       "      <th>blood_pressure</th>\n",
       "      <th>cigs_per_day</th>\n",
       "      <th>chol</th>\n",
       "      <th>age_group</th>\n",
       "    </tr>\n",
       "  </thead>\n",
       "  <tbody>\n",
       "    <tr>\n",
       "      <th>164</th>\n",
       "      <td>1</td>\n",
       "      <td>0</td>\n",
       "      <td>58</td>\n",
       "      <td>140/80</td>\n",
       "      <td>0</td>\n",
       "      <td>205.0</td>\n",
       "      <td>group 3</td>\n",
       "    </tr>\n",
       "    <tr>\n",
       "      <th>1364</th>\n",
       "      <td>0</td>\n",
       "      <td>0</td>\n",
       "      <td>70</td>\n",
       "      <td>136/90</td>\n",
       "      <td>0</td>\n",
       "      <td>309.0</td>\n",
       "      <td>group 2</td>\n",
       "    </tr>\n",
       "    <tr>\n",
       "      <th>3612</th>\n",
       "      <td>1</td>\n",
       "      <td>1</td>\n",
       "      <td>75</td>\n",
       "      <td>147/101</td>\n",
       "      <td>30</td>\n",
       "      <td>233.0</td>\n",
       "      <td>group 1</td>\n",
       "    </tr>\n",
       "    <tr>\n",
       "      <th>3363</th>\n",
       "      <td>1</td>\n",
       "      <td>1</td>\n",
       "      <td>95</td>\n",
       "      <td>121/79</td>\n",
       "      <td>20</td>\n",
       "      <td>270.0</td>\n",
       "      <td>group 2</td>\n",
       "    </tr>\n",
       "    <tr>\n",
       "      <th>1767</th>\n",
       "      <td>0</td>\n",
       "      <td>0</td>\n",
       "      <td>75</td>\n",
       "      <td>125/87</td>\n",
       "      <td>0</td>\n",
       "      <td>274.0</td>\n",
       "      <td>group 2</td>\n",
       "    </tr>\n",
       "    <tr>\n",
       "      <th>1552</th>\n",
       "      <td>1</td>\n",
       "      <td>0</td>\n",
       "      <td>85</td>\n",
       "      <td>166.5/106.5</td>\n",
       "      <td>0</td>\n",
       "      <td>208.0</td>\n",
       "      <td>group 2</td>\n",
       "    </tr>\n",
       "    <tr>\n",
       "      <th>1763</th>\n",
       "      <td>0</td>\n",
       "      <td>0</td>\n",
       "      <td>75</td>\n",
       "      <td>124/87</td>\n",
       "      <td>0</td>\n",
       "      <td>308.0</td>\n",
       "      <td>group 2</td>\n",
       "    </tr>\n",
       "    <tr>\n",
       "      <th>364</th>\n",
       "      <td>0</td>\n",
       "      <td>0</td>\n",
       "      <td>85</td>\n",
       "      <td>135/88</td>\n",
       "      <td>0</td>\n",
       "      <td>288.0</td>\n",
       "      <td>group 1</td>\n",
       "    </tr>\n",
       "    <tr>\n",
       "      <th>2356</th>\n",
       "      <td>1</td>\n",
       "      <td>1</td>\n",
       "      <td>80</td>\n",
       "      <td>140/89.5</td>\n",
       "      <td>9</td>\n",
       "      <td>229.0</td>\n",
       "      <td>group 2</td>\n",
       "    </tr>\n",
       "    <tr>\n",
       "      <th>1097</th>\n",
       "      <td>1</td>\n",
       "      <td>0</td>\n",
       "      <td>52</td>\n",
       "      <td>105/70</td>\n",
       "      <td>0</td>\n",
       "      <td>221.0</td>\n",
       "      <td>group 1</td>\n",
       "    </tr>\n",
       "  </tbody>\n",
       "</table>\n",
       "</div>"
      ],
      "text/plain": [
       "      sex  current_smoker  heart_rate blood_pressure  cigs_per_day   chol  \\\n",
       "164     1               0          58         140/80             0  205.0   \n",
       "1364    0               0          70         136/90             0  309.0   \n",
       "3612    1               1          75        147/101            30  233.0   \n",
       "3363    1               1          95         121/79            20  270.0   \n",
       "1767    0               0          75         125/87             0  274.0   \n",
       "1552    1               0          85    166.5/106.5             0  208.0   \n",
       "1763    0               0          75         124/87             0  308.0   \n",
       "364     0               0          85         135/88             0  288.0   \n",
       "2356    1               1          80       140/89.5             9  229.0   \n",
       "1097    1               0          52         105/70             0  221.0   \n",
       "\n",
       "     age_group  \n",
       "164    group 3  \n",
       "1364   group 2  \n",
       "3612   group 1  \n",
       "3363   group 2  \n",
       "1767   group 2  \n",
       "1552   group 2  \n",
       "1763   group 2  \n",
       "364    group 1  \n",
       "2356   group 2  \n",
       "1097   group 1  "
      ]
     },
     "execution_count": 48,
     "metadata": {},
     "output_type": "execute_result"
    }
   ],
   "source": [
    "df.sample(10)"
   ]
  },
  {
   "cell_type": "markdown",
   "id": "9a5a8395",
   "metadata": {},
   "source": [
    "### Let's analyze the number of people in each group"
   ]
  },
  {
   "cell_type": "code",
   "execution_count": 272,
   "id": "8e5a1138",
   "metadata": {},
   "outputs": [
    {
     "data": {
      "text/plain": [
       "group 2    1890\n",
       "group 1    1457\n",
       "group 3     532\n",
       "Name: age_group, dtype: int64"
      ]
     },
     "execution_count": 272,
     "metadata": {},
     "output_type": "execute_result"
    }
   ],
   "source": [
    "age_group_counts=df['age_group'].value_counts()\n",
    "age_group_counts"
   ]
  },
  {
   "cell_type": "markdown",
   "id": "8994c7e3",
   "metadata": {},
   "source": [
    "### Group 2 has the highest number of people in the dataset"
   ]
  },
  {
   "cell_type": "markdown",
   "id": "1b60b388",
   "metadata": {},
   "source": [
    "### Let's analyze the number of men and women in the dataset"
   ]
  },
  {
   "cell_type": "code",
   "execution_count": 279,
   "id": "41cbff7e",
   "metadata": {},
   "outputs": [
    {
     "data": {
      "text/plain": [
       "0    2081\n",
       "1    1798\n",
       "Name: sex, dtype: int64"
      ]
     },
     "execution_count": 279,
     "metadata": {},
     "output_type": "execute_result"
    }
   ],
   "source": [
    "sex_counts=df['sex'].value_counts()\n",
    "sex_counts"
   ]
  },
  {
   "cell_type": "markdown",
   "id": "38c15b3c",
   "metadata": {},
   "source": [
    "### Females are more in the dataset"
   ]
  },
  {
   "cell_type": "code",
   "execution_count": 89,
   "id": "21e02487",
   "metadata": {},
   "outputs": [],
   "source": [
    "grouped_by_age = df.groupby(['age_group', 'current_smoker']).size().unstack()"
   ]
  },
  {
   "cell_type": "code",
   "execution_count": 277,
   "id": "5f377d5d",
   "metadata": {},
   "outputs": [
    {
     "data": {
      "image/png": "[encoded data removed]",
      "text/plain": [
       "<Figure size 640x480 with 1 Axes>"
      ]
     },
     "metadata": {},
     "output_type": "display_data"
    }
   ],
   "source": [
    "ax=grouped_by_age.plot(kind='bar')\n",
    "for bars in ax.containers:\n",
    "    ax.bar_label(bars)\n",
    "labels=['No', 'Yes']\n",
    "plt.xlabel(\"Age groups\")\n",
    "plt.legend(labels)\n",
    "plt.title(\"Current smokers\")\n",
    "plt.show()"
   ]
  },
  {
   "cell_type": "markdown",
   "id": "1cda3d75",
   "metadata": {},
   "source": [
    "### Even though people in group 2 are the highest but people in group 1 has most number of current smokers"
   ]
  },
  {
   "cell_type": "code",
   "execution_count": 99,
   "id": "10e6b091",
   "metadata": {},
   "outputs": [],
   "source": [
    "grouped_by_sex=df.groupby(['sex', 'current_smoker']).size().unstack()"
   ]
  },
  {
   "cell_type": "code",
   "execution_count": 145,
   "id": "b8cf212e",
   "metadata": {},
   "outputs": [
    {
     "data": {
      "image/png": "[encoded data removed]",
      "text/plain": [
       "<Figure size 640x480 with 1 Axes>"
      ]
     },
     "metadata": {},
     "output_type": "display_data"
    }
   ],
   "source": [
    "ax=grouped_by_sex.plot(kind='bar')\n",
    "for bars in ax.containers:\n",
    "    ax.bar_label(bars)\n",
    "plt.title(\"Female Vs Male\")\n",
    "plt.legend(['Quit', 'Did not quit'], loc='upper center')\n",
    "plt.show()"
   ]
  },
  {
   "cell_type": "markdown",
   "id": "95f23e2c",
   "metadata": {},
   "source": [
    "### More number of women quit smoking "
   ]
  },
  {
   "cell_type": "markdown",
   "id": "41bd7ceb",
   "metadata": {},
   "source": [
    "### Let's analyze the people who are current smokers"
   ]
  },
  {
   "cell_type": "code",
   "execution_count": 134,
   "id": "fcb66f49",
   "metadata": {},
   "outputs": [],
   "source": [
    "current_smokers=df[df['current_smoker']==1]"
   ]
  },
  {
   "cell_type": "code",
   "execution_count": 278,
   "id": "73ab2f47",
   "metadata": {},
   "outputs": [
    {
     "data": {
      "image/png": "[encoded data removed]",
      "text/plain": [
       "<Figure size 640x480 with 1 Axes>"
      ]
     },
     "metadata": {},
     "output_type": "display_data"
    }
   ],
   "source": [
    "ax=sns.countplot(x='age_group', data=current_smokers)\n",
    "for bars in ax.containers:\n",
    "    ax.bar_label(bars)\n",
    "plt.show()"
   ]
  },
  {
   "cell_type": "markdown",
   "id": "e332342d",
   "metadata": {},
   "source": [
    "### Group 1 has the most number of current smokers"
   ]
  },
  {
   "cell_type": "code",
   "execution_count": 161,
   "id": "5d8931d3",
   "metadata": {},
   "outputs": [
    {
     "data": {
      "image/png": "[encoded data removed]",
      "text/plain": [
       "<Figure size 640x480 with 1 Axes>"
      ]
     },
     "metadata": {},
     "output_type": "display_data"
    }
   ],
   "source": [
    "labels=['Male', 'Female']\n",
    "current_smokers['sex'].value_counts().plot(kind='pie', labels=labels, autopct='%1.1f%%')\n",
    "plt.title('Distribution of Current Smokers by Sex')\n",
    "plt.show()"
   ]
  },
  {
   "cell_type": "markdown",
   "id": "4f5a3751",
   "metadata": {},
   "source": [
    "### People who have the abnormal heart rate: <60 and >100 in current_smokers dataset"
   ]
  },
  {
   "cell_type": "code",
   "execution_count": 172,
   "id": "e04104c1",
   "metadata": {},
   "outputs": [],
   "source": [
    "abnormal_heart_rate=current_smokers[(current_smokers['heart_rate']<60) | (current_smokers['heart_rate']>100)]"
   ]
  },
  {
   "cell_type": "code",
   "execution_count": 173,
   "id": "8a67c753",
   "metadata": {},
   "outputs": [
    {
     "data": {
      "text/html": [
       "<div>\n",
       "<style scoped>\n",
       "    .dataframe tbody tr th:only-of-type {\n",
       "        vertical-align: middle;\n",
       "    }\n",
       "\n",
       "    .dataframe tbody tr th {\n",
       "        vertical-align: top;\n",
       "    }\n",
       "\n",
       "    .dataframe thead th {\n",
       "        text-align: right;\n",
       "    }\n",
       "</style>\n",
       "<table border=\"1\" class=\"dataframe\">\n",
       "  <thead>\n",
       "    <tr style=\"text-align: right;\">\n",
       "      <th></th>\n",
       "      <th>sex</th>\n",
       "      <th>current_smoker</th>\n",
       "      <th>heart_rate</th>\n",
       "      <th>blood_pressure</th>\n",
       "      <th>cigs_per_day</th>\n",
       "      <th>chol</th>\n",
       "      <th>age_group</th>\n",
       "    </tr>\n",
       "  </thead>\n",
       "  <tbody>\n",
       "    <tr>\n",
       "      <th>1995</th>\n",
       "      <td>0</td>\n",
       "      <td>1</td>\n",
       "      <td>57</td>\n",
       "      <td>200/104</td>\n",
       "      <td>1</td>\n",
       "      <td>326.0</td>\n",
       "      <td>group 3</td>\n",
       "    </tr>\n",
       "    <tr>\n",
       "      <th>2018</th>\n",
       "      <td>0</td>\n",
       "      <td>1</td>\n",
       "      <td>55</td>\n",
       "      <td>113.5/61</td>\n",
       "      <td>1</td>\n",
       "      <td>189.0</td>\n",
       "      <td>group 1</td>\n",
       "    </tr>\n",
       "    <tr>\n",
       "      <th>2021</th>\n",
       "      <td>0</td>\n",
       "      <td>1</td>\n",
       "      <td>107</td>\n",
       "      <td>108/70</td>\n",
       "      <td>1</td>\n",
       "      <td>185.0</td>\n",
       "      <td>group 2</td>\n",
       "    </tr>\n",
       "    <tr>\n",
       "      <th>2037</th>\n",
       "      <td>0</td>\n",
       "      <td>1</td>\n",
       "      <td>56</td>\n",
       "      <td>142/82.5</td>\n",
       "      <td>1</td>\n",
       "      <td>220.0</td>\n",
       "      <td>group 2</td>\n",
       "    </tr>\n",
       "    <tr>\n",
       "      <th>2047</th>\n",
       "      <td>1</td>\n",
       "      <td>1</td>\n",
       "      <td>58</td>\n",
       "      <td>113/62</td>\n",
       "      <td>2</td>\n",
       "      <td>144.0</td>\n",
       "      <td>group 3</td>\n",
       "    </tr>\n",
       "    <tr>\n",
       "      <th>...</th>\n",
       "      <td>...</td>\n",
       "      <td>...</td>\n",
       "      <td>...</td>\n",
       "      <td>...</td>\n",
       "      <td>...</td>\n",
       "      <td>...</td>\n",
       "      <td>...</td>\n",
       "    </tr>\n",
       "    <tr>\n",
       "      <th>3816</th>\n",
       "      <td>1</td>\n",
       "      <td>1</td>\n",
       "      <td>53</td>\n",
       "      <td>126/79</td>\n",
       "      <td>40</td>\n",
       "      <td>224.0</td>\n",
       "      <td>group 1</td>\n",
       "    </tr>\n",
       "    <tr>\n",
       "      <th>3835</th>\n",
       "      <td>1</td>\n",
       "      <td>1</td>\n",
       "      <td>110</td>\n",
       "      <td>140/88</td>\n",
       "      <td>43</td>\n",
       "      <td>176.0</td>\n",
       "      <td>group 2</td>\n",
       "    </tr>\n",
       "    <tr>\n",
       "      <th>3836</th>\n",
       "      <td>1</td>\n",
       "      <td>1</td>\n",
       "      <td>103</td>\n",
       "      <td>145/88</td>\n",
       "      <td>43</td>\n",
       "      <td>272.0</td>\n",
       "      <td>group 2</td>\n",
       "    </tr>\n",
       "    <tr>\n",
       "      <th>3862</th>\n",
       "      <td>1</td>\n",
       "      <td>1</td>\n",
       "      <td>110</td>\n",
       "      <td>130/94</td>\n",
       "      <td>43</td>\n",
       "      <td>170.0</td>\n",
       "      <td>group 1</td>\n",
       "    </tr>\n",
       "    <tr>\n",
       "      <th>3889</th>\n",
       "      <td>1</td>\n",
       "      <td>1</td>\n",
       "      <td>59</td>\n",
       "      <td>112/65</td>\n",
       "      <td>60</td>\n",
       "      <td>215.0</td>\n",
       "      <td>group 1</td>\n",
       "    </tr>\n",
       "  </tbody>\n",
       "</table>\n",
       "<p>123 rows × 7 columns</p>\n",
       "</div>"
      ],
      "text/plain": [
       "      sex  current_smoker  heart_rate blood_pressure  cigs_per_day   chol  \\\n",
       "1995    0               1          57        200/104             1  326.0   \n",
       "2018    0               1          55       113.5/61             1  189.0   \n",
       "2021    0               1         107         108/70             1  185.0   \n",
       "2037    0               1          56       142/82.5             1  220.0   \n",
       "2047    1               1          58         113/62             2  144.0   \n",
       "...   ...             ...         ...            ...           ...    ...   \n",
       "3816    1               1          53         126/79            40  224.0   \n",
       "3835    1               1         110         140/88            43  176.0   \n",
       "3836    1               1         103         145/88            43  272.0   \n",
       "3862    1               1         110         130/94            43  170.0   \n",
       "3889    1               1          59         112/65            60  215.0   \n",
       "\n",
       "     age_group  \n",
       "1995   group 3  \n",
       "2018   group 1  \n",
       "2021   group 2  \n",
       "2037   group 2  \n",
       "2047   group 3  \n",
       "...        ...  \n",
       "3816   group 1  \n",
       "3835   group 2  \n",
       "3836   group 2  \n",
       "3862   group 1  \n",
       "3889   group 1  \n",
       "\n",
       "[123 rows x 7 columns]"
      ]
     },
     "execution_count": 173,
     "metadata": {},
     "output_type": "execute_result"
    }
   ],
   "source": [
    "abnormal_heart_rate"
   ]
  },
  {
   "cell_type": "code",
   "execution_count": 220,
   "id": "4fe42f55",
   "metadata": {},
   "outputs": [
    {
     "data": {
      "image/png": "[encoded data removed]",
      "text/plain": [
       "<Figure size 640x480 with 1 Axes>"
      ]
     },
     "metadata": {},
     "output_type": "display_data"
    }
   ],
   "source": [
    "ax=sns.countplot(x='sex', data=abnormal_heart_rate)\n",
    "for bars in ax.containers:\n",
    "    ax.bar_label(bars)\n",
    "plt.title(\"Abnormal heart rate: Female Vs Male\")\n",
    "plt.show()"
   ]
  },
  {
   "cell_type": "markdown",
   "id": "7b49368a",
   "metadata": {},
   "source": [
    "### Abnormal heart rate: Females with minimum and maximum heart rate"
   ]
  },
  {
   "cell_type": "code",
   "execution_count": 185,
   "id": "44d76467",
   "metadata": {},
   "outputs": [
    {
     "name": "stdout",
     "output_type": "stream",
     "text": [
      "Max heart rate 130\n",
      "Min heart rate 46\n"
     ]
    }
   ],
   "source": [
    "print(\"Max heart rate:\", abnormal_heart_rate[abnormal_heart_rate['sex']==0]['heart_rate'].max())\n",
    "print(\"Min heart rate:\", abnormal_heart_rate[abnormal_heart_rate['sex']==0]['heart_rate'].min())"
   ]
  },
  {
   "cell_type": "markdown",
   "id": "524440ce",
   "metadata": {},
   "source": [
    "### Males with maximum and minimum heart rate"
   ]
  },
  {
   "cell_type": "code",
   "execution_count": 186,
   "id": "6f15c284",
   "metadata": {},
   "outputs": [
    {
     "name": "stdout",
     "output_type": "stream",
     "text": [
      "Max heart rate 120\n",
      "Min heart rate 45\n"
     ]
    }
   ],
   "source": [
    "print(\"Max heart rate\", abnormal_heart_rate[abnormal_heart_rate['sex']==1]['heart_rate'].max())\n",
    "print(\"Min heart rate\", abnormal_heart_rate[abnormal_heart_rate['sex']==1]['heart_rate'].min())"
   ]
  },
  {
   "cell_type": "code",
   "execution_count": 188,
   "id": "d98d21b7",
   "metadata": {},
   "outputs": [
    {
     "data": {
      "image/png": "[encoded data removed]",
      "text/plain": [
       "<Figure size 640x480 with 1 Axes>"
      ]
     },
     "metadata": {},
     "output_type": "display_data"
    }
   ],
   "source": [
    "ax=sns.countplot(x='age_group', data=abnormal_heart_rate)\n",
    "for bars in ax.containers:\n",
    "    ax.bar_label(bars)\n",
    "plt.show()"
   ]
  },
  {
   "cell_type": "code",
   "execution_count": 223,
   "id": "a7d1c5a3",
   "metadata": {},
   "outputs": [],
   "source": [
    "ab_by_sex=abnormal_heart_rate.groupby(['age_group', 'sex']).size().unstack()"
   ]
  },
  {
   "cell_type": "code",
   "execution_count": 224,
   "id": "352df3fb",
   "metadata": {},
   "outputs": [
    {
     "data": {
      "text/html": [
       "<div>\n",
       "<style scoped>\n",
       "    .dataframe tbody tr th:only-of-type {\n",
       "        vertical-align: middle;\n",
       "    }\n",
       "\n",
       "    .dataframe tbody tr th {\n",
       "        vertical-align: top;\n",
       "    }\n",
       "\n",
       "    .dataframe thead th {\n",
       "        text-align: right;\n",
       "    }\n",
       "</style>\n",
       "<table border=\"1\" class=\"dataframe\">\n",
       "  <thead>\n",
       "    <tr style=\"text-align: right;\">\n",
       "      <th>sex</th>\n",
       "      <th>0</th>\n",
       "      <th>1</th>\n",
       "    </tr>\n",
       "    <tr>\n",
       "      <th>age_group</th>\n",
       "      <th></th>\n",
       "      <th></th>\n",
       "    </tr>\n",
       "  </thead>\n",
       "  <tbody>\n",
       "    <tr>\n",
       "      <th>group 1</th>\n",
       "      <td>16</td>\n",
       "      <td>32</td>\n",
       "    </tr>\n",
       "    <tr>\n",
       "      <th>group 2</th>\n",
       "      <td>26</td>\n",
       "      <td>32</td>\n",
       "    </tr>\n",
       "    <tr>\n",
       "      <th>group 3</th>\n",
       "      <td>10</td>\n",
       "      <td>7</td>\n",
       "    </tr>\n",
       "  </tbody>\n",
       "</table>\n",
       "</div>"
      ],
      "text/plain": [
       "sex         0   1\n",
       "age_group        \n",
       "group 1    16  32\n",
       "group 2    26  32\n",
       "group 3    10   7"
      ]
     },
     "execution_count": 224,
     "metadata": {},
     "output_type": "execute_result"
    }
   ],
   "source": [
    "ab_by_sex"
   ]
  },
  {
   "cell_type": "code",
   "execution_count": 216,
   "id": "71e23f85",
   "metadata": {},
   "outputs": [
    {
     "data": {
      "image/png": "[encoded data removed]",
      "text/plain": [
       "<Figure size 640x480 with 1 Axes>"
      ]
     },
     "metadata": {},
     "output_type": "display_data"
    }
   ],
   "source": [
    "ax=ab_by_sex.plot(kind='bar', stacked=True)\n",
    "for bars in ax.containers:\n",
    "    ax.bar_label(bars)\n",
    "labels=['Female', 'Male']\n",
    "plt.legend(labels)\n",
    "plt.show()"
   ]
  },
  {
   "cell_type": "markdown",
   "id": "3c5dce39",
   "metadata": {},
   "source": [
    "### Now, for people who quit smoking"
   ]
  },
  {
   "cell_type": "code",
   "execution_count": 225,
   "id": "6ca0c9c5",
   "metadata": {},
   "outputs": [],
   "source": [
    "quit_smoking=df[df['current_smoker']==0]"
   ]
  },
  {
   "cell_type": "code",
   "execution_count": 228,
   "id": "6e784bbb",
   "metadata": {},
   "outputs": [
    {
     "data": {
      "text/html": [
       "<div>\n",
       "<style scoped>\n",
       "    .dataframe tbody tr th:only-of-type {\n",
       "        vertical-align: middle;\n",
       "    }\n",
       "\n",
       "    .dataframe tbody tr th {\n",
       "        vertical-align: top;\n",
       "    }\n",
       "\n",
       "    .dataframe thead th {\n",
       "        text-align: right;\n",
       "    }\n",
       "</style>\n",
       "<table border=\"1\" class=\"dataframe\">\n",
       "  <thead>\n",
       "    <tr style=\"text-align: right;\">\n",
       "      <th></th>\n",
       "      <th>sex</th>\n",
       "      <th>current_smoker</th>\n",
       "      <th>heart_rate</th>\n",
       "      <th>blood_pressure</th>\n",
       "      <th>cigs_per_day</th>\n",
       "      <th>chol</th>\n",
       "      <th>age_group</th>\n",
       "    </tr>\n",
       "  </thead>\n",
       "  <tbody>\n",
       "    <tr>\n",
       "      <th>14</th>\n",
       "      <td>1</td>\n",
       "      <td>0</td>\n",
       "      <td>75</td>\n",
       "      <td>131/52</td>\n",
       "      <td>0</td>\n",
       "      <td>175.0</td>\n",
       "      <td>group 2</td>\n",
       "    </tr>\n",
       "    <tr>\n",
       "      <th>15</th>\n",
       "      <td>0</td>\n",
       "      <td>0</td>\n",
       "      <td>75</td>\n",
       "      <td>126/52</td>\n",
       "      <td>0</td>\n",
       "      <td>240.0</td>\n",
       "      <td>group 2</td>\n",
       "    </tr>\n",
       "    <tr>\n",
       "      <th>16</th>\n",
       "      <td>0</td>\n",
       "      <td>0</td>\n",
       "      <td>80</td>\n",
       "      <td>102/56</td>\n",
       "      <td>0</td>\n",
       "      <td>199.0</td>\n",
       "      <td>group 2</td>\n",
       "    </tr>\n",
       "    <tr>\n",
       "      <th>17</th>\n",
       "      <td>0</td>\n",
       "      <td>0</td>\n",
       "      <td>75</td>\n",
       "      <td>106/58</td>\n",
       "      <td>0</td>\n",
       "      <td>235.0</td>\n",
       "      <td>group 1</td>\n",
       "    </tr>\n",
       "    <tr>\n",
       "      <th>18</th>\n",
       "      <td>0</td>\n",
       "      <td>0</td>\n",
       "      <td>81</td>\n",
       "      <td>112/60</td>\n",
       "      <td>0</td>\n",
       "      <td>300.0</td>\n",
       "      <td>group 1</td>\n",
       "    </tr>\n",
       "  </tbody>\n",
       "</table>\n",
       "</div>"
      ],
      "text/plain": [
       "    sex  current_smoker  heart_rate blood_pressure  cigs_per_day   chol  \\\n",
       "14    1               0          75         131/52             0  175.0   \n",
       "15    0               0          75         126/52             0  240.0   \n",
       "16    0               0          80         102/56             0  199.0   \n",
       "17    0               0          75         106/58             0  235.0   \n",
       "18    0               0          81         112/60             0  300.0   \n",
       "\n",
       "   age_group  \n",
       "14   group 2  \n",
       "15   group 2  \n",
       "16   group 2  \n",
       "17   group 1  \n",
       "18   group 1  "
      ]
     },
     "execution_count": 228,
     "metadata": {},
     "output_type": "execute_result"
    }
   ],
   "source": [
    "quit_smoking.head()"
   ]
  },
  {
   "cell_type": "code",
   "execution_count": 251,
   "id": "b3567c46",
   "metadata": {},
   "outputs": [
    {
     "data": {
      "image/png": "[encoded data removed]",
      "text/plain": [
       "<Figure size 640x480 with 1 Axes>"
      ]
     },
     "metadata": {},
     "output_type": "display_data"
    }
   ],
   "source": [
    "value=quit_smoking['sex'].value_counts()\n",
    "labels=['Female', 'Male']\n",
    "value.plot(kind='pie', labels=labels, autopct='%0.1f%%')\n",
    "plt.show()"
   ]
  },
  {
   "cell_type": "code",
   "execution_count": 252,
   "id": "e06cf502",
   "metadata": {},
   "outputs": [
    {
     "data": {
      "text/html": [
       "<div>\n",
       "<style scoped>\n",
       "    .dataframe tbody tr th:only-of-type {\n",
       "        vertical-align: middle;\n",
       "    }\n",
       "\n",
       "    .dataframe tbody tr th {\n",
       "        vertical-align: top;\n",
       "    }\n",
       "\n",
       "    .dataframe thead th {\n",
       "        text-align: right;\n",
       "    }\n",
       "</style>\n",
       "<table border=\"1\" class=\"dataframe\">\n",
       "  <thead>\n",
       "    <tr style=\"text-align: right;\">\n",
       "      <th></th>\n",
       "      <th>sex</th>\n",
       "      <th>current_smoker</th>\n",
       "      <th>heart_rate</th>\n",
       "      <th>cigs_per_day</th>\n",
       "      <th>chol</th>\n",
       "    </tr>\n",
       "  </thead>\n",
       "  <tbody>\n",
       "    <tr>\n",
       "      <th>count</th>\n",
       "      <td>1965.000000</td>\n",
       "      <td>1965.0</td>\n",
       "      <td>1965.000000</td>\n",
       "      <td>1965.0</td>\n",
       "      <td>1965.000000</td>\n",
       "    </tr>\n",
       "    <tr>\n",
       "      <th>mean</th>\n",
       "      <td>0.361832</td>\n",
       "      <td>0.0</td>\n",
       "      <td>75.015267</td>\n",
       "      <td>0.0</td>\n",
       "      <td>238.645802</td>\n",
       "    </tr>\n",
       "    <tr>\n",
       "      <th>std</th>\n",
       "      <td>0.480653</td>\n",
       "      <td>0.0</td>\n",
       "      <td>12.231048</td>\n",
       "      <td>0.0</td>\n",
       "      <td>43.869109</td>\n",
       "    </tr>\n",
       "    <tr>\n",
       "      <th>min</th>\n",
       "      <td>0.000000</td>\n",
       "      <td>0.0</td>\n",
       "      <td>44.000000</td>\n",
       "      <td>0.0</td>\n",
       "      <td>124.000000</td>\n",
       "    </tr>\n",
       "    <tr>\n",
       "      <th>25%</th>\n",
       "      <td>0.000000</td>\n",
       "      <td>0.0</td>\n",
       "      <td>67.000000</td>\n",
       "      <td>0.0</td>\n",
       "      <td>208.000000</td>\n",
       "    </tr>\n",
       "    <tr>\n",
       "      <th>50%</th>\n",
       "      <td>0.000000</td>\n",
       "      <td>0.0</td>\n",
       "      <td>75.000000</td>\n",
       "      <td>0.0</td>\n",
       "      <td>235.000000</td>\n",
       "    </tr>\n",
       "    <tr>\n",
       "      <th>75%</th>\n",
       "      <td>1.000000</td>\n",
       "      <td>0.0</td>\n",
       "      <td>81.000000</td>\n",
       "      <td>0.0</td>\n",
       "      <td>266.000000</td>\n",
       "    </tr>\n",
       "    <tr>\n",
       "      <th>max</th>\n",
       "      <td>1.000000</td>\n",
       "      <td>0.0</td>\n",
       "      <td>143.000000</td>\n",
       "      <td>0.0</td>\n",
       "      <td>600.000000</td>\n",
       "    </tr>\n",
       "  </tbody>\n",
       "</table>\n",
       "</div>"
      ],
      "text/plain": [
       "               sex  current_smoker   heart_rate  cigs_per_day         chol\n",
       "count  1965.000000          1965.0  1965.000000        1965.0  1965.000000\n",
       "mean      0.361832             0.0    75.015267           0.0   238.645802\n",
       "std       0.480653             0.0    12.231048           0.0    43.869109\n",
       "min       0.000000             0.0    44.000000           0.0   124.000000\n",
       "25%       0.000000             0.0    67.000000           0.0   208.000000\n",
       "50%       0.000000             0.0    75.000000           0.0   235.000000\n",
       "75%       1.000000             0.0    81.000000           0.0   266.000000\n",
       "max       1.000000             0.0   143.000000           0.0   600.000000"
      ]
     },
     "execution_count": 252,
     "metadata": {},
     "output_type": "execute_result"
    }
   ],
   "source": [
    "quit_smoking.describe()"
   ]
  },
  {
   "cell_type": "code",
   "execution_count": 260,
   "id": "210c3df2",
   "metadata": {},
   "outputs": [],
   "source": [
    "ab_heart_rate_quit=quit_smoking[(quit_smoking['heart_rate']>110) | (quit_smoking['heart_rate']<50)]"
   ]
  },
  {
   "cell_type": "code",
   "execution_count": 262,
   "id": "810c66b6",
   "metadata": {},
   "outputs": [
    {
     "data": {
      "image/png": "[encoded data removed]",
      "text/plain": [
       "<Figure size 640x480 with 1 Axes>"
      ]
     },
     "metadata": {},
     "output_type": "display_data"
    }
   ],
   "source": [
    "ax=sns.countplot(x='age_group', data=ab_heart_rate_quit)\n",
    "for bars in ax.containers:\n",
    "    ax.bar_label(bars)\n",
    "plt.show()"
   ]
  },
  {
   "cell_type": "code",
   "execution_count": null,
   "id": "32d82b7d",
   "metadata": {},
   "outputs": [],
   "source": []
  }
 ],
 "metadata": {
  "kernelspec": {
   "display_name": "Python 3 (ipykernel)",
   "language": "python",
   "name": "python3"
  },
  "language_info": {
   "codemirror_mode": {
    "name": "ipython",
    "version": 3
   },
   "file_extension": ".py",
   "mimetype": "text/x-python",
   "name": "python",
   "nbconvert_exporter": "python",
   "pygments_lexer": "ipython3",
   "version": "3.11.4"
  }
 },
 "nbformat": 4,
 "nbformat_minor": 5
}
